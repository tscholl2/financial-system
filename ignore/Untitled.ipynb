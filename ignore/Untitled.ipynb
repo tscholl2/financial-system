{
 "cells": [
  {
   "cell_type": "code",
   "execution_count": null,
   "id": "67b93923",
   "metadata": {},
   "outputs": [],
   "source": [
    "import pandas as pd"
   ]
  },
  {
   "cell_type": "code",
   "execution_count": null,
   "id": "43cbca3b",
   "metadata": {},
   "outputs": [],
   "source": [
    "df = pd.read_csv('finances.csv').dropna(subset=['date'])\n",
    "df['notes'] = df['notes'].fillna('')\n",
    "df['date'] = pd.to_datetime(df['date'])\n",
    "df = df.set_index(df['date'])\n",
    "df.sort_index(inplace=True)\n",
    "#df = df[~df['notes'].str.contains('wedding')]\n",
    "#df = df[~df['notes'].str.contains('per diem')]\n",
    "#df = df[df['item'] != 'siding']\n",
    "#df = df[df['item'] != 'new hvac system']\n",
    "#df = df[df['notes'] != 'for siding']\n",
    "df['cost'] = df['cost'].str.extract('([0-9,.]+)')\n",
    "df['cost'] = df['cost'].str.replace(',','')\n",
    "df['cost'] = -df['cost'].astype(float)\n",
    "df['cost'] *= 2*(df['category'] != 'income') - 1\n",
    "df['sum'] = df['cost'].cumsum()\n",
    "df['month-year'] = df['date'].map(lambda t: t.strftime('%Y-%m'))\n",
    "df['month'] = df['date'].map(lambda t: t.month)\n",
    "df['year'] = df['date'].map(lambda t: t.year)"
   ]
  },
  {
   "cell_type": "code",
   "execution_count": null,
   "id": "59f53aa2",
   "metadata": {},
   "outputs": [],
   "source": [
    "df[(df['category'] == 'personal') & (df['notes'] == 'wedding')][['item','cost']]"
   ]
  },
  {
   "cell_type": "code",
   "execution_count": null,
   "id": "0ff4844a",
   "metadata": {},
   "outputs": [],
   "source": [
    "#df[(df['year'] == 2022) & (df['month'] == 5)].sort_values(by='cost',ascending=False)\n",
    "#df.sort_values(by='cost')"
   ]
  },
  {
   "cell_type": "code",
   "execution_count": null,
   "id": "5bff0f15",
   "metadata": {},
   "outputs": [],
   "source": [
    "df.groupby('category')['cost'].sum()"
   ]
  },
  {
   "cell_type": "code",
   "execution_count": null,
   "id": "ddffc9e9",
   "metadata": {},
   "outputs": [],
   "source": [
    "df[df['category'] == 'income'].groupby('location')['cost'].sum()"
   ]
  },
  {
   "cell_type": "code",
   "execution_count": null,
   "id": "d97f883b",
   "metadata": {},
   "outputs": [],
   "source": [
    "df.groupby('year')[['cost']].sum()"
   ]
  },
  {
   "cell_type": "code",
   "execution_count": null,
   "id": "b71dfa61",
   "metadata": {},
   "outputs": [],
   "source": [
    "df[df['category'] != 'income'].groupby('category')[['cost']].sum().abs().plot.pie(y='cost')"
   ]
  },
  {
   "cell_type": "code",
   "execution_count": null,
   "id": "d6b64033",
   "metadata": {},
   "outputs": [],
   "source": [
    "df.groupby('month-year')[['cost']].sum().mean()"
   ]
  },
  {
   "cell_type": "code",
   "execution_count": null,
   "id": "fc0fa150",
   "metadata": {},
   "outputs": [],
   "source": [
    "df.set_index('date')[['sum']].plot()"
   ]
  },
  {
   "cell_type": "code",
   "execution_count": null,
   "id": "a53ea8bc",
   "metadata": {},
   "outputs": [],
   "source": []
  },
  {
   "cell_type": "code",
   "execution_count": null,
   "id": "b641f618",
   "metadata": {},
   "outputs": [],
   "source": []
  },
  {
   "cell_type": "code",
   "execution_count": null,
   "id": "9227054e",
   "metadata": {},
   "outputs": [],
   "source": []
  }
 ],
 "metadata": {
  "kernelspec": {
   "display_name": "Python 3 (ipykernel)",
   "language": "python",
   "name": "python3"
  },
  "language_info": {
   "codemirror_mode": {
    "name": "ipython",
    "version": 3
   },
   "file_extension": ".py",
   "mimetype": "text/x-python",
   "name": "python",
   "nbconvert_exporter": "python",
   "pygments_lexer": "ipython3",
   "version": "3.11.0"
  }
 },
 "nbformat": 4,
 "nbformat_minor": 5
}
